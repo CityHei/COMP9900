{
 "cells": [
  {
   "cell_type": "code",
   "execution_count": 1,
   "metadata": {},
   "outputs": [],
   "source": [
    "class Student:\n",
    "    def __init__(self, name, zID):\n",
    "        self.name = name\n",
    "        self.zID = zID\n",
    "\n",
    "class ProjectCourse:\n",
    "    def __init__(self, term, year):\n",
    "        self.term = term\n",
    "        self.year = year\n",
    "        self.students = []\n",
    "\n",
    "    def addStudent(self, student):\n",
    "        self.students.append(student)\n",
    "\n",
    "    def containsStudent(self, zID):\n",
    "        return any(student.zID == zID for student in self.students)\n",
    "\n",
    "    def removeStudent(self, zID):\n",
    "        self.students = [student for student in self.students if student.zID != zID]\n",
    "\n",
    "class ProjectClass:\n",
    "    def __init__(self, term, year, start_time, location, tutor):\n",
    "        self.term = term\n",
    "        self.year = year\n",
    "        self.start_time = start_time\n",
    "        self.location = location\n",
    "        self.tutor = tutor\n",
    "\n",
    "class ProjectTutor(Student):\n",
    "    def __init__(self, name, zID, classes):\n",
    "        super().__init__(name, zID)\n",
    "        self.classes = classes\n",
    "\n",
    "    def coveringClass(self, project_class, new_tutor):\n",
    "        project_class.tutor = new_tutor\n",
    "        new_tutor.classes.append(project_class)\n",
    "        self.classes.remove(project_class)"
   ]
  },
  {
   "cell_type": "code",
   "execution_count": 2,
   "metadata": {},
   "outputs": [],
   "source": [
    "# Create students\n",
    "student1 = Student(\"John Doe\", \"z1234567\")\n",
    "student2 = Student(\"Jane Smith\", \"z7654321\")\n",
    "\n",
    "# Create a project course\n",
    "course = ProjectCourse(\"Term 1\", 2024)\n",
    "\n",
    "# Add students to the course\n",
    "course.addStudent(student1)\n",
    "course.addStudent(student2)\n",
    "\n",
    "# Test containsStudent method\n",
    "assert course.containsStudent(\"z1234567\") == True\n",
    "assert course.containsStudent(\"z9999999\") == False\n",
    "\n",
    "# Remove a student from the course\n",
    "course.removeStudent(\"z1234567\")\n",
    "assert course.containsStudent(\"z1234567\") == False\n",
    "\n",
    "# Create a project class\n",
    "class1 = ProjectClass(\"Term 1\", 2024, \"Monday 12pm\", \"Science and Engineering G01\", \"Dr. Smith\")\n",
    "\n",
    "# Create a project tutor\n",
    "tutor = ProjectTutor(\"Tutor Name\", \"z9876543\", [class1])\n",
    "\n",
    "# Create another tutor\n",
    "new_tutor = ProjectTutor(\"New Tutor\", \"z1111111\", [])"
   ]
  },
  {
   "cell_type": "code",
   "execution_count": null,
   "metadata": {},
   "outputs": [],
   "source": [
    "tutor.coveringClass(class1, new_tutor)\n",
    "assert class1.tutor == new_tutor\n",
    "assert class1 in new_tutor.classes\n",
    "assert class1 not in tutor.classes\n",
    "\n",
    "print(\"All tests passed.\")"
   ]
  }
 ],
 "metadata": {
  "kernelspec": {
   "display_name": "Python 3",
   "language": "python",
   "name": "python3"
  },
  "language_info": {
   "codemirror_mode": {
    "name": "ipython",
    "version": 3
   },
   "file_extension": ".py",
   "mimetype": "text/x-python",
   "name": "python",
   "nbconvert_exporter": "python",
   "pygments_lexer": "ipython3",
   "version": "3.10.9"
  }
 },
 "nbformat": 4,
 "nbformat_minor": 2
}
